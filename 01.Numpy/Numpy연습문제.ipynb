{
 "cells": [
  {
   "cell_type": "markdown",
   "metadata": {},
   "source": [
    "### 연습문제 1\n",
    "<pre>\n",
    "넘파이를 사용하여 다음과 같은 행렬을 만드시오. \n",
    "10 20 30 40 \n",
    "50 60 70 80\n",
    "</pre>"
   ]
  },
  {
   "cell_type": "code",
   "execution_count": 1,
   "metadata": {},
   "outputs": [],
   "source": [
    "import numpy as np"
   ]
  },
  {
   "cell_type": "code",
   "execution_count": 7,
   "metadata": {},
   "outputs": [
    {
     "data": {
      "text/plain": [
       "array([[10, 20, 30, 40],\n",
       "       [50, 60, 70, 80]])"
      ]
     },
     "execution_count": 7,
     "metadata": {},
     "output_type": "execute_result"
    }
   ],
   "source": [
    "a= np.arange(10,81,10).reshape(2,4)\n",
    "a"
   ]
  },
  {
   "cell_type": "markdown",
   "metadata": {},
   "source": [
    "### 연습문제 2\n",
    "<pre>\n",
    "다음 행렬과 같은 행렬이 있다. \n",
    "m = np.array([  [ 0, 1, 2, 3, 4], \n",
    "                [ 5, 6, 7, 8, 9], \n",
    "                [10, 11, 12, 13, 14]])\n",
    "1)이 행렬에서 값 7 을 인덱싱한다.\n",
    "2)이 행렬에서 값 14 을 인덱싱한다.\n",
    "3)이 행렬에서 배열 [6, 7] 을 슬라이싱한다.\n",
    "4)이 행렬에서 배열 [7, 12] 을 슬라이싱한다.\n",
    "5)이 행렬에서 배열 [[3, 4], [8, 9]] 을 슬라이싱한다.\n",
    "</pre>"
   ]
  },
  {
   "cell_type": "code",
   "execution_count": 58,
   "metadata": {},
   "outputs": [
    {
     "data": {
      "text/plain": [
       "array([[ 0,  1,  2,  3,  4],\n",
       "       [ 5,  6,  7,  8,  9],\n",
       "       [10, 11, 12, 13, 14]])"
      ]
     },
     "execution_count": 58,
     "metadata": {},
     "output_type": "execute_result"
    }
   ],
   "source": [
    "m = np.array([  [ 0, 1, 2, 3, 4], \n",
    "                [ 5, 6, 7, 8, 9], \n",
    "                [10, 11, 12, 13, 14]])\n",
    "m"
   ]
  },
  {
   "cell_type": "code",
   "execution_count": 12,
   "metadata": {},
   "outputs": [
    {
     "data": {
      "text/plain": [
       "7"
      ]
     },
     "execution_count": 12,
     "metadata": {},
     "output_type": "execute_result"
    }
   ],
   "source": [
    "# 1)이 행렬에서 값 7 을 인덱싱한다.\n",
    "m[1][2]"
   ]
  },
  {
   "cell_type": "code",
   "execution_count": 13,
   "metadata": {},
   "outputs": [
    {
     "data": {
      "text/plain": [
       "14"
      ]
     },
     "execution_count": 13,
     "metadata": {},
     "output_type": "execute_result"
    }
   ],
   "source": [
    "# 2)이 행렬에서 값 14 을 인덱싱한다.\n",
    "m[2][4]"
   ]
  },
  {
   "cell_type": "code",
   "execution_count": 19,
   "metadata": {},
   "outputs": [
    {
     "data": {
      "text/plain": [
       "array([[6, 7]])"
      ]
     },
     "execution_count": 19,
     "metadata": {},
     "output_type": "execute_result"
    }
   ],
   "source": [
    "# 3)이 행렬에서 배열 [6, 7] 을 슬라이싱한다.\n",
    "m[1:2,1:3]"
   ]
  },
  {
   "cell_type": "code",
   "execution_count": 20,
   "metadata": {},
   "outputs": [
    {
     "data": {
      "text/plain": [
       "array([[ 7],\n",
       "       [12]])"
      ]
     },
     "execution_count": 20,
     "metadata": {},
     "output_type": "execute_result"
    }
   ],
   "source": [
    "# 4)이 행렬에서 배열 [7, 12] 을 슬라이싱한다.\n",
    "m[1:, 2:3]"
   ]
  },
  {
   "cell_type": "code",
   "execution_count": 21,
   "metadata": {},
   "outputs": [
    {
     "data": {
      "text/plain": [
       "array([[3, 4],\n",
       "       [8, 9]])"
      ]
     },
     "execution_count": 21,
     "metadata": {},
     "output_type": "execute_result"
    }
   ],
   "source": [
    "# 5)이 행렬에서 배열 [[3, 4], [8, 9]] 을 슬라이싱한다.\n",
    "m[:2,3:]"
   ]
  },
  {
   "cell_type": "markdown",
   "metadata": {},
   "source": [
    "### 연습문제 3\n",
    "<pre>\n",
    "3.2번의 행렬 m을 1차원 벡터 f 로 변환한 후 다음의 문제를 푸시오.\n",
    "1)이 배열에서 3의 배수를 찾아라.\n",
    "2)이 배열에서 4로 나누면 1이 남는 수를 찾아라.\n",
    "3)이 배열에서 3으로 나누면 나누어지고 4로 나누면 1이 남는 수를 찾아라.\n",
    "</pre>"
   ]
  },
  {
   "cell_type": "code",
   "execution_count": 61,
   "metadata": {},
   "outputs": [
    {
     "data": {
      "text/plain": [
       "array([ 0,  1,  2,  3,  4,  5,  6,  7,  8,  9, 10, 11, 12, 13, 14])"
      ]
     },
     "execution_count": 61,
     "metadata": {},
     "output_type": "execute_result"
    }
   ],
   "source": [
    "f= m.flatten()\n",
    "f"
   ]
  },
  {
   "cell_type": "code",
   "execution_count": 64,
   "metadata": {},
   "outputs": [
    {
     "data": {
      "text/plain": [
       "array([ 0,  3,  6,  9, 12])"
      ]
     },
     "execution_count": 64,
     "metadata": {},
     "output_type": "execute_result"
    }
   ],
   "source": [
    "# 1)이 배열에서 3의 배수를 찾아라.\n",
    "f1 = f[f%3==0]\n",
    "f1"
   ]
  },
  {
   "cell_type": "code",
   "execution_count": 65,
   "metadata": {},
   "outputs": [
    {
     "data": {
      "text/plain": [
       "array([ 1,  5,  9, 13])"
      ]
     },
     "execution_count": 65,
     "metadata": {},
     "output_type": "execute_result"
    }
   ],
   "source": [
    "# 2)이 배열에서 4로 나누면 1이 남는 수를 찾아라.\n",
    "f2 = f[f%4==1]\n",
    "f2"
   ]
  },
  {
   "cell_type": "code",
   "execution_count": 70,
   "metadata": {},
   "outputs": [
    {
     "data": {
      "text/plain": [
       "array([9])"
      ]
     },
     "execution_count": 70,
     "metadata": {},
     "output_type": "execute_result"
    }
   ],
   "source": [
    "# 3)이 배열에서 3으로 나누면 나누어지고 4로 나누면 1이 남는 수를 찾아라.\n",
    "f3 = f1[f1%4==1]\n",
    "f3"
   ]
  },
  {
   "cell_type": "markdown",
   "metadata": {},
   "source": [
    "### 연습문제 4\n",
    "<pre>\n",
    "4.값을 직접 입력하지 말고 우측의 행렬을 만드시오.\n",
    "\n",
    "2, 1, 0, 0, 0 \n",
    "3, 2, 1, 0, 0\n",
    "0, 3, 2, 1, 0 \n",
    "0, 0, 3, 2, 1 \n",
    "0, 0, 0, 3, 2\n",
    "</pre>"
   ]
  },
  {
   "cell_type": "code",
   "execution_count": 86,
   "metadata": {},
   "outputs": [
    {
     "data": {
      "text/plain": [
       "array([[2, 1, 0, 0, 0],\n",
       "       [3, 2, 1, 0, 0],\n",
       "       [0, 3, 2, 1, 0],\n",
       "       [0, 0, 3, 2, 1],\n",
       "       [0, 0, 0, 3, 2]])"
      ]
     },
     "execution_count": 86,
     "metadata": {},
     "output_type": "execute_result"
    }
   ],
   "source": [
    "np.eye(N=5 , M=5,k=-1, dtype=int)*3+np.eye(N=5 , M=5, dtype=int)*2+np.eye(N=5 , M=5,k=1, dtype=int)"
   ]
  },
  {
   "cell_type": "code",
   "execution_count": 74,
   "metadata": {},
   "outputs": [
    {
     "data": {
      "text/plain": [
       "array([[1, 0, 1, 0, 0],\n",
       "       [0, 1, 0, 1, 0],\n",
       "       [0, 0, 1, 0, 1]])"
      ]
     },
     "execution_count": 74,
     "metadata": {},
     "output_type": "execute_result"
    }
   ],
   "source": [
    "np.eye(3,5,k=0,dtype=int)+ np.eye(3,5,k=2, dtype=int)"
   ]
  },
  {
   "cell_type": "markdown",
   "metadata": {},
   "source": [
    "### 연습문제 5\n",
    "<pre>\n",
    "0에서 10까지 랜덤 실수값으로 이루어진 \n",
    "5 x 6 형태의 데이터 행렬을 만들고 이 데이터에 대해 \n",
    "다음과 같은 값을 구하시오.\n",
    "1)전체의 최댓값\n",
    "2)각 행의 합\n",
    "3)각 행의 최댓값\n",
    "4)각 열의 평균\n",
    "5)각 열의 최솟값\n",
    "</pre>"
   ]
  },
  {
   "cell_type": "code",
   "execution_count": 94,
   "metadata": {},
   "outputs": [
    {
     "data": {
      "text/plain": [
       "array([[ 1,  7,  7, 10,  1,  9],\n",
       "       [ 8,  0,  5,  2,  6,  8],\n",
       "       [ 8,  3,  5,  9,  4,  6],\n",
       "       [ 9,  4,  4,  0,  9,  6],\n",
       "       [ 5,  1,  7,  8,  9,  5]])"
      ]
     },
     "execution_count": 94,
     "metadata": {},
     "output_type": "execute_result"
    }
   ],
   "source": [
    "import random\n",
    "b = np.random.randint(0,11,30).reshape(5,6)\n",
    "b"
   ]
  },
  {
   "cell_type": "code",
   "execution_count": 95,
   "metadata": {},
   "outputs": [
    {
     "data": {
      "text/plain": [
       "10"
      ]
     },
     "execution_count": 95,
     "metadata": {},
     "output_type": "execute_result"
    }
   ],
   "source": [
    "# 1)전체의 최댓값\n",
    "b.max()\n"
   ]
  },
  {
   "cell_type": "code",
   "execution_count": 96,
   "metadata": {},
   "outputs": [
    {
     "data": {
      "text/plain": [
       "array([35, 29, 35, 32, 35])"
      ]
     },
     "execution_count": 96,
     "metadata": {},
     "output_type": "execute_result"
    }
   ],
   "source": [
    "# 2)각 행의 합\n",
    "b.sum(axis=1)"
   ]
  },
  {
   "cell_type": "code",
   "execution_count": 97,
   "metadata": {},
   "outputs": [
    {
     "data": {
      "text/plain": [
       "array([10,  8,  9,  9,  9])"
      ]
     },
     "execution_count": 97,
     "metadata": {},
     "output_type": "execute_result"
    }
   ],
   "source": [
    "# 3)각 행의 최댓값\n",
    "b.max(axis=1)"
   ]
  },
  {
   "cell_type": "code",
   "execution_count": 99,
   "metadata": {},
   "outputs": [
    {
     "data": {
      "text/plain": [
       "array([6.2, 3. , 5.6, 5.8, 5.8, 6.8])"
      ]
     },
     "execution_count": 99,
     "metadata": {},
     "output_type": "execute_result"
    }
   ],
   "source": [
    "# 4)각 열의 평균\n",
    "b.mean(axis=0)"
   ]
  },
  {
   "cell_type": "code",
   "execution_count": 100,
   "metadata": {},
   "outputs": [
    {
     "data": {
      "text/plain": [
       "array([1, 0, 4, 0, 1, 5])"
      ]
     },
     "execution_count": 100,
     "metadata": {},
     "output_type": "execute_result"
    }
   ],
   "source": [
    "# 5)각 열의 최솟값\n",
    "b.min(axis=0)"
   ]
  },
  {
   "cell_type": "markdown",
   "metadata": {},
   "source": [
    "### 연습문제 6\n",
    "<pre>\n",
    "6.다음 배열은 첫번째 행(row)에 학번, 두번째 행에 영어 성적, \n",
    "세번째 행에 수학 성적을 적은 배열이다. \n",
    "영어 성적을 기준으로 각 열(column)을 재정렬하시오.\n",
    "array([ [ 1, 2, 3, 4], \n",
    "        [ 46, 99, 100, 71], \n",
    "        [ 81, 59, 90, 100]])\n",
    "</pre>"
   ]
  },
  {
   "cell_type": "code",
   "execution_count": 187,
   "metadata": {},
   "outputs": [
    {
     "data": {
      "text/plain": [
       "array([[  1,   2,   3,   4],\n",
       "       [ 46,  99, 100,  71],\n",
       "       [ 81,  59,  90, 100]])"
      ]
     },
     "execution_count": 187,
     "metadata": {},
     "output_type": "execute_result"
    }
   ],
   "source": [
    "c = np.array([1,2,3,4,  46, 99, 100, 71,  81, 59, 90, 100], dtype=np.int32).reshape(3,4)\n",
    "c"
   ]
  },
  {
   "cell_type": "code",
   "execution_count": 207,
   "metadata": {},
   "outputs": [
    {
     "name": "stdout",
     "output_type": "stream",
     "text": [
      "[1 2 3 4]\n",
      "[ 46  99 100  71]\n",
      "[ 81  59  90 100]\n"
     ]
    }
   ],
   "source": [
    "c1 = np.array([ 1, 2, 3, 4])\n",
    "c2 = np.array([ 46, 99, 100, 71])\n",
    "c3 = np.array([ 81, 59, 90, 100])\n",
    "\n",
    "print(c1)\n",
    "print(c2)\n",
    "print(c3)"
   ]
  },
  {
   "cell_type": "code",
   "execution_count": 208,
   "metadata": {},
   "outputs": [
    {
     "data": {
      "text/plain": [
       "array([1, 0, 2, 3], dtype=int64)"
      ]
     },
     "execution_count": 208,
     "metadata": {},
     "output_type": "execute_result"
    }
   ],
   "source": [
    "i = c3.argsort()\n",
    "i\n"
   ]
  },
  {
   "cell_type": "code",
   "execution_count": 212,
   "metadata": {},
   "outputs": [
    {
     "data": {
      "text/plain": [
       "array([[  2,   1,   3,   4],\n",
       "       [ 99,  46, 100,  71],\n",
       "       [ 59,  81,  90, 100]])"
      ]
     },
     "execution_count": 212,
     "metadata": {},
     "output_type": "execute_result"
    }
   ],
   "source": [
    "i = np.argsort(c3)\n",
    "c1 = c1[i]\n",
    "c2 = c2[i]\n",
    "c3 = c3[i]\n",
    "np.vstack((c1,c2,c3))"
   ]
  },
  {
   "cell_type": "markdown",
   "metadata": {},
   "source": [
    "### 연습문제 7\n",
    "<pre>\n",
    "7.주사위를 100번 던지는 가상 실험을 파이썬으로 작성하고, 던져서 나오는 숫자의 평균을 구하시오.\n",
    "</pre>"
   ]
  },
  {
   "cell_type": "code",
   "execution_count": 215,
   "metadata": {},
   "outputs": [
    {
     "data": {
      "text/plain": [
       "3.77"
      ]
     },
     "execution_count": 215,
     "metadata": {},
     "output_type": "execute_result"
    }
   ],
   "source": [
    "np.random.randint(1,7,100).mean()"
   ]
  },
  {
   "cell_type": "markdown",
   "metadata": {},
   "source": [
    "### 연습문제 8\n",
    "<pre>\n",
    "8.가격이 10,000원인 주식이 있다. \n",
    "이 주식의 일간 수익률(%)은 기댓값이 0%이고 \n",
    "표준편차가 1%인 표준 정규 분포를 따른다고 하자. \n",
    "250일 동안의 주가를 무작위로 생성하시오.\n",
    "</pre>"
   ]
  },
  {
   "cell_type": "code",
   "execution_count": 279,
   "metadata": {},
   "outputs": [
    {
     "data": {
      "text/plain": [
       "array([ 9937.74792934,  9738.41560411,  9857.93395297,  9915.10790338,\n",
       "       10012.01654047,  9889.48414108, 10072.42973813,  9933.69677556,\n",
       "        9794.55126113,  9933.5624961 , 10155.33994878,  9959.15650312,\n",
       "        9841.62732519, 10205.96076725,  9841.59013169,  9895.69518056,\n",
       "       10073.64202572, 10080.40221215, 10025.44449336, 10157.32900613,\n",
       "       10009.74060539, 10049.10552923,  9943.37573902, 10060.57568761,\n",
       "        9900.6748033 ,  9893.15795818,  9950.68944543, 10036.37519449,\n",
       "        9964.49738292, 10034.12902567,  9776.67169311,  9999.63481631,\n",
       "        9931.32999732,  9993.48595028,  9948.77735839, 10046.80206642,\n",
       "       10169.84224222,  9987.97511084,  9993.33457867, 10111.74320336,\n",
       "       10004.01585929,  9990.13881943, 10194.35816023,  9901.96655292,\n",
       "        9921.12600416, 10121.79803218, 10015.38086773, 10225.79934211,\n",
       "       10161.7071877 , 10125.32491292,  9995.00401154,  9891.60115914,\n",
       "        9957.16229546,  9980.75594569, 10017.75250725, 10138.26970125,\n",
       "       10029.06152322,  9868.8638269 , 10011.62566318,  9878.77111426,\n",
       "       10204.75397545, 10056.94300443, 10115.51356845, 10171.41106713,\n",
       "        9922.90996582, 10121.15843126, 10069.2411432 , 10022.12890502,\n",
       "       10066.9958251 ,  9952.77802231,  9878.28379284, 10123.11853358,\n",
       "        9932.9198196 , 10140.62103457, 10001.99830812, 10128.79153532,\n",
       "        9996.2443426 , 10189.03052793,  9967.0445658 ,  9954.01017461,\n",
       "       10052.22941548,  9779.0960669 ,  9937.78122497, 10095.66360472,\n",
       "       10009.66907006, 10019.12184759,  9823.85838549, 10110.073309  ,\n",
       "       10020.13546009, 10090.32298045, 10010.13157229,  9976.12493327,\n",
       "       10019.31547787,  9852.35343069,  9958.61291594, 10004.92898719,\n",
       "        9880.15209442, 10115.43777093, 10024.55871617, 10142.370383  ,\n",
       "       10068.50950433,  9977.34662551,  9899.82162411,  9887.83176646,\n",
       "        9950.17279942, 10181.92175955,  9975.46664516,  9833.78554193,\n",
       "        9912.84789573,  9983.11496019,  9981.52846466,  9906.25552809,\n",
       "        9937.63658241,  9985.26796811,  9955.3495158 ,  9942.51025816,\n",
       "       10162.91289726, 10104.28152501, 10039.34840135, 10183.31324075,\n",
       "       10057.8261505 , 10215.77783547, 10059.2645556 ,  9937.7137629 ,\n",
       "        9901.13654777,  9989.1501979 , 10013.90437111, 10184.01386853,\n",
       "        9888.53560608, 10035.01681294, 10165.48253687, 10087.87648385,\n",
       "        9934.96052343,  9924.3258549 , 10137.55280536, 10118.415736  ,\n",
       "        9853.31487243, 10044.7424843 , 10098.68545755,  9918.85305571,\n",
       "        9995.35175645, 10099.84895551,  9994.16506747, 10108.1755032 ,\n",
       "       10004.32774642,  9937.89784148,  9937.95186558, 10198.78500837,\n",
       "       10004.92773763, 10066.9735702 , 10017.82138061, 10098.53229887,\n",
       "       10039.31885727,  9977.6684364 ,  9809.17790756,  9907.56710297,\n",
       "        9980.41915503, 10026.93834445,  9978.3577448 ,  9979.96016645,\n",
       "       10102.76794034,  9856.30406881,  9975.61272274,  9904.79823484,\n",
       "       10015.88085931,  9930.20440159,  9967.82757526, 10043.99277502,\n",
       "       10096.27510451,  9872.3377982 ,  9952.43380724, 10002.19696076,\n",
       "        9969.62616047,  9976.41557727, 10064.10498335, 10039.58598513,\n",
       "        9939.75051892,  9963.78938053, 10114.02548042,  9795.91025912,\n",
       "        9956.46683784, 10089.52778525, 10139.24388993, 10041.33369744,\n",
       "        9971.64242285, 10031.28940136, 10064.21545408,  9893.66570015,\n",
       "        9959.03248521,  9827.72741714, 10287.04209404,  9962.23726915,\n",
       "       10224.68479821, 10012.83590059, 10073.80045411, 10012.13465547,\n",
       "       10072.33718239,  9966.56453199, 10053.52472505, 10072.96957345,\n",
       "       10170.4685223 , 10054.3396604 , 10058.561893  , 10110.26844542,\n",
       "       10039.88014495, 10093.2851368 , 10175.96702794, 10047.715897  ,\n",
       "        9982.97533633,  9731.11145409,  9892.05800177,  9999.00531711,\n",
       "       10076.48538324, 10051.98406575,  9906.96095036,  9997.1077758 ,\n",
       "        9932.18378076, 10024.55550523,  9978.21680538, 10089.60680412,\n",
       "        9789.74082589, 10160.67933997,  9856.81759421,  9998.43555365,\n",
       "        9948.98787171,  9889.59254088, 10194.65113574, 10009.62984908,\n",
       "       10048.84671208, 10185.26419184, 10060.20979741,  9951.24377727,\n",
       "        9811.56612379,  9925.92367026, 10016.55145692, 10027.94743292,\n",
       "        9964.33397851, 10059.65699231,  9965.56740791, 10199.83446813,\n",
       "        9939.30163442,  9952.86292558,  9743.5012853 , 10045.26007949,\n",
       "        9988.17150132, 10105.14156707,  9850.96013027, 10035.18522485,\n",
       "        9957.60993222,  9920.91538975])"
      ]
     },
     "execution_count": 279,
     "metadata": {},
     "output_type": "execute_result"
    }
   ],
   "source": [
    "e = np.random.randn(250)*100 +10000\n",
    "e"
   ]
  },
  {
   "cell_type": "code",
   "execution_count": null,
   "metadata": {},
   "outputs": [],
   "source": []
  }
 ],
 "metadata": {
  "interpreter": {
   "hash": "9528276d7147921ccf3eb8613d5de8fb77d072562e0af527ab4e2e91c3f6962f"
  },
  "kernelspec": {
   "display_name": "Python 3.9.7 ('base')",
   "language": "python",
   "name": "python3"
  },
  "language_info": {
   "codemirror_mode": {
    "name": "ipython",
    "version": 3
   },
   "file_extension": ".py",
   "mimetype": "text/x-python",
   "name": "python",
   "nbconvert_exporter": "python",
   "pygments_lexer": "ipython3",
   "version": "3.9.7"
  },
  "orig_nbformat": 4
 },
 "nbformat": 4,
 "nbformat_minor": 2
}
