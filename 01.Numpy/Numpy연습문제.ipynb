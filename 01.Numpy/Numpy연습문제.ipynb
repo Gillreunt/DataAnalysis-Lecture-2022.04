{
 "cells": [
  {
   "cell_type": "markdown",
   "metadata": {},
   "source": [
    "### 연습문제 1\n",
    "<pre>\n",
    "넘파이를 사용하여 다음과 같은 행렬을 만드시오. \n",
    "10 20 30 40 \n",
    "50 60 70 80\n",
    "</pre>"
   ]
  },
  {
   "cell_type": "code",
   "execution_count": 1,
   "metadata": {},
   "outputs": [],
   "source": [
    "import numpy as np"
   ]
  },
  {
   "cell_type": "code",
   "execution_count": 7,
   "metadata": {},
   "outputs": [
    {
     "data": {
      "text/plain": [
       "array([[10, 20, 30, 40],\n",
       "       [50, 60, 70, 80]])"
      ]
     },
     "execution_count": 7,
     "metadata": {},
     "output_type": "execute_result"
    }
   ],
   "source": [
    "a= np.arange(10,81,10).reshape(2,4)\n",
    "a"
   ]
  },
  {
   "cell_type": "markdown",
   "metadata": {},
   "source": [
    "### 연습문제 2\n",
    "<pre>\n",
    "다음 행렬과 같은 행렬이 있다. \n",
    "m = np.array([  [ 0, 1, 2, 3, 4], \n",
    "                [ 5, 6, 7, 8, 9], \n",
    "                [10, 11, 12, 13, 14]])\n",
    "1)이 행렬에서 값 7 을 인덱싱한다.\n",
    "2)이 행렬에서 값 14 을 인덱싱한다.\n",
    "3)이 행렬에서 배열 [6, 7] 을 슬라이싱한다.\n",
    "4)이 행렬에서 배열 [7, 12] 을 슬라이싱한다.\n",
    "5)이 행렬에서 배열 [[3, 4], [8, 9]] 을 슬라이싱한다.\n",
    "</pre>"
   ]
  },
  {
   "cell_type": "code",
   "execution_count": 58,
   "metadata": {},
   "outputs": [
    {
     "data": {
      "text/plain": [
       "array([[ 0,  1,  2,  3,  4],\n",
       "       [ 5,  6,  7,  8,  9],\n",
       "       [10, 11, 12, 13, 14]])"
      ]
     },
     "execution_count": 58,
     "metadata": {},
     "output_type": "execute_result"
    }
   ],
   "source": [
    "m = np.array([  [ 0, 1, 2, 3, 4], \n",
    "                [ 5, 6, 7, 8, 9], \n",
    "                [10, 11, 12, 13, 14]])\n",
    "m"
   ]
  },
  {
   "cell_type": "code",
   "execution_count": 12,
   "metadata": {},
   "outputs": [
    {
     "data": {
      "text/plain": [
       "7"
      ]
     },
     "execution_count": 12,
     "metadata": {},
     "output_type": "execute_result"
    }
   ],
   "source": [
    "# 1)이 행렬에서 값 7 을 인덱싱한다.\n",
    "m[1][2]"
   ]
  },
  {
   "cell_type": "code",
   "execution_count": 13,
   "metadata": {},
   "outputs": [
    {
     "data": {
      "text/plain": [
       "14"
      ]
     },
     "execution_count": 13,
     "metadata": {},
     "output_type": "execute_result"
    }
   ],
   "source": [
    "# 2)이 행렬에서 값 14 을 인덱싱한다.\n",
    "m[2][4]"
   ]
  },
  {
   "cell_type": "code",
   "execution_count": 19,
   "metadata": {},
   "outputs": [
    {
     "data": {
      "text/plain": [
       "array([[6, 7]])"
      ]
     },
     "execution_count": 19,
     "metadata": {},
     "output_type": "execute_result"
    }
   ],
   "source": [
    "# 3)이 행렬에서 배열 [6, 7] 을 슬라이싱한다.\n",
    "m[1:2,1:3]"
   ]
  },
  {
   "cell_type": "code",
   "execution_count": 20,
   "metadata": {},
   "outputs": [
    {
     "data": {
      "text/plain": [
       "array([[ 7],\n",
       "       [12]])"
      ]
     },
     "execution_count": 20,
     "metadata": {},
     "output_type": "execute_result"
    }
   ],
   "source": [
    "# 4)이 행렬에서 배열 [7, 12] 을 슬라이싱한다.\n",
    "m[1:, 2:3]"
   ]
  },
  {
   "cell_type": "code",
   "execution_count": 21,
   "metadata": {},
   "outputs": [
    {
     "data": {
      "text/plain": [
       "array([[3, 4],\n",
       "       [8, 9]])"
      ]
     },
     "execution_count": 21,
     "metadata": {},
     "output_type": "execute_result"
    }
   ],
   "source": [
    "# 5)이 행렬에서 배열 [[3, 4], [8, 9]] 을 슬라이싱한다.\n",
    "m[:2,3:]"
   ]
  },
  {
   "cell_type": "markdown",
   "metadata": {},
   "source": [
    "### 연습문제 3\n",
    "<pre>\n",
    "3.2번의 행렬 m을 1차원 벡터 f 로 변환한 후 다음의 문제를 푸시오.\n",
    "1)이 배열에서 3의 배수를 찾아라.\n",
    "2)이 배열에서 4로 나누면 1이 남는 수를 찾아라.\n",
    "3)이 배열에서 3으로 나누면 나누어지고 4로 나누면 1이 남는 수를 찾아라.\n",
    "</pre>"
   ]
  },
  {
   "cell_type": "code",
   "execution_count": 61,
   "metadata": {},
   "outputs": [
    {
     "data": {
      "text/plain": [
       "array([ 0,  1,  2,  3,  4,  5,  6,  7,  8,  9, 10, 11, 12, 13, 14])"
      ]
     },
     "execution_count": 61,
     "metadata": {},
     "output_type": "execute_result"
    }
   ],
   "source": [
    "f= m.flatten()\n",
    "f"
   ]
  },
  {
   "cell_type": "code",
   "execution_count": 64,
   "metadata": {},
   "outputs": [
    {
     "data": {
      "text/plain": [
       "array([ 0,  3,  6,  9, 12])"
      ]
     },
     "execution_count": 64,
     "metadata": {},
     "output_type": "execute_result"
    }
   ],
   "source": [
    "# 1)이 배열에서 3의 배수를 찾아라.\n",
    "f1 = f[f%3==0]\n",
    "f1"
   ]
  },
  {
   "cell_type": "code",
   "execution_count": 65,
   "metadata": {},
   "outputs": [
    {
     "data": {
      "text/plain": [
       "array([ 1,  5,  9, 13])"
      ]
     },
     "execution_count": 65,
     "metadata": {},
     "output_type": "execute_result"
    }
   ],
   "source": [
    "# 2)이 배열에서 4로 나누면 1이 남는 수를 찾아라.\n",
    "f2 = f[f%4==1]\n",
    "f2"
   ]
  },
  {
   "cell_type": "code",
   "execution_count": 70,
   "metadata": {},
   "outputs": [
    {
     "data": {
      "text/plain": [
       "array([9])"
      ]
     },
     "execution_count": 70,
     "metadata": {},
     "output_type": "execute_result"
    }
   ],
   "source": [
    "# 3)이 배열에서 3으로 나누면 나누어지고 4로 나누면 1이 남는 수를 찾아라.\n",
    "f3 = f1[f1%4==1]\n",
    "f3"
   ]
  },
  {
   "cell_type": "markdown",
   "metadata": {},
   "source": [
    "### 연습문제 4\n",
    "<pre>\n",
    "4.값을 직접 입력하지 말고 우측의 행렬을 만드시오.\n",
    "\n",
    "2, 1, 0, 0, 0 \n",
    "3, 2, 1, 0, 0\n",
    "0, 3, 2, 1, 0 \n",
    "0, 0, 3, 2, 1 \n",
    "0, 0, 0, 3, 2\n",
    "</pre>"
   ]
  },
  {
   "cell_type": "code",
   "execution_count": 86,
   "metadata": {},
   "outputs": [
    {
     "data": {
      "text/plain": [
       "array([[2, 1, 0, 0, 0],\n",
       "       [3, 2, 1, 0, 0],\n",
       "       [0, 3, 2, 1, 0],\n",
       "       [0, 0, 3, 2, 1],\n",
       "       [0, 0, 0, 3, 2]])"
      ]
     },
     "execution_count": 86,
     "metadata": {},
     "output_type": "execute_result"
    }
   ],
   "source": [
    "np.eye(N=5 , M=5,k=-1, dtype=int)*3+np.eye(N=5 , M=5, dtype=int)*2+np.eye(N=5 , M=5,k=1, dtype=int)"
   ]
  },
  {
   "cell_type": "code",
   "execution_count": 74,
   "metadata": {},
   "outputs": [
    {
     "data": {
      "text/plain": [
       "array([[1, 0, 1, 0, 0],\n",
       "       [0, 1, 0, 1, 0],\n",
       "       [0, 0, 1, 0, 1]])"
      ]
     },
     "execution_count": 74,
     "metadata": {},
     "output_type": "execute_result"
    }
   ],
   "source": [
    "np.eye(3,5,k=0,dtype=int)+ np.eye(3,5,k=2, dtype=int)"
   ]
  },
  {
   "cell_type": "markdown",
   "metadata": {},
   "source": [
    "### 연습문제 5\n",
    "<pre>\n",
    "0에서 10까지 랜덤 실수값으로 이루어진 \n",
    "5 x 6 형태의 데이터 행렬을 만들고 이 데이터에 대해 \n",
    "다음과 같은 값을 구하시오.\n",
    "1)전체의 최댓값\n",
    "2)각 행의 합\n",
    "3)각 행의 최댓값\n",
    "4)각 열의 평균\n",
    "5)각 열의 최솟값\n",
    "</pre>"
   ]
  },
  {
   "cell_type": "code",
   "execution_count": 94,
   "metadata": {},
   "outputs": [
    {
     "data": {
      "text/plain": [
       "array([[ 1,  7,  7, 10,  1,  9],\n",
       "       [ 8,  0,  5,  2,  6,  8],\n",
       "       [ 8,  3,  5,  9,  4,  6],\n",
       "       [ 9,  4,  4,  0,  9,  6],\n",
       "       [ 5,  1,  7,  8,  9,  5]])"
      ]
     },
     "execution_count": 94,
     "metadata": {},
     "output_type": "execute_result"
    }
   ],
   "source": [
    "import random\n",
    "b = np.random.randint(0,11,30).reshape(5,6)\n",
    "b"
   ]
  },
  {
   "cell_type": "code",
   "execution_count": 95,
   "metadata": {},
   "outputs": [
    {
     "data": {
      "text/plain": [
       "10"
      ]
     },
     "execution_count": 95,
     "metadata": {},
     "output_type": "execute_result"
    }
   ],
   "source": [
    "# 1)전체의 최댓값\n",
    "b.max()\n"
   ]
  },
  {
   "cell_type": "code",
   "execution_count": 96,
   "metadata": {},
   "outputs": [
    {
     "data": {
      "text/plain": [
       "array([35, 29, 35, 32, 35])"
      ]
     },
     "execution_count": 96,
     "metadata": {},
     "output_type": "execute_result"
    }
   ],
   "source": [
    "# 2)각 행의 합\n",
    "b.sum(axis=1)"
   ]
  },
  {
   "cell_type": "code",
   "execution_count": 97,
   "metadata": {},
   "outputs": [
    {
     "data": {
      "text/plain": [
       "array([10,  8,  9,  9,  9])"
      ]
     },
     "execution_count": 97,
     "metadata": {},
     "output_type": "execute_result"
    }
   ],
   "source": [
    "# 3)각 행의 최댓값\n",
    "b.max(axis=1)"
   ]
  },
  {
   "cell_type": "code",
   "execution_count": 99,
   "metadata": {},
   "outputs": [
    {
     "data": {
      "text/plain": [
       "array([6.2, 3. , 5.6, 5.8, 5.8, 6.8])"
      ]
     },
     "execution_count": 99,
     "metadata": {},
     "output_type": "execute_result"
    }
   ],
   "source": [
    "# 4)각 열의 평균\n",
    "b.mean(axis=0)"
   ]
  },
  {
   "cell_type": "code",
   "execution_count": 100,
   "metadata": {},
   "outputs": [
    {
     "data": {
      "text/plain": [
       "array([1, 0, 4, 0, 1, 5])"
      ]
     },
     "execution_count": 100,
     "metadata": {},
     "output_type": "execute_result"
    }
   ],
   "source": [
    "# 5)각 열의 최솟값\n",
    "b.min(axis=0)"
   ]
  },
  {
   "cell_type": "markdown",
   "metadata": {},
   "source": [
    "### 연습문제 6\n",
    "<pre>\n",
    "6.다음 배열은 첫번째 행(row)에 학번, 두번째 행에 영어 성적, \n",
    "세번째 행에 수학 성적을 적은 배열이다. \n",
    "영어 성적을 기준으로 각 열(column)을 재정렬하시오.\n",
    "array([ [ 1, 2, 3, 4], \n",
    "        [ 46, 99, 100, 71], \n",
    "        [ 81, 59, 90, 100]])\n",
    "</pre>"
   ]
  },
  {
   "cell_type": "code",
   "execution_count": 187,
   "metadata": {},
   "outputs": [
    {
     "data": {
      "text/plain": [
       "array([[  1,   2,   3,   4],\n",
       "       [ 46,  99, 100,  71],\n",
       "       [ 81,  59,  90, 100]])"
      ]
     },
     "execution_count": 187,
     "metadata": {},
     "output_type": "execute_result"
    }
   ],
   "source": [
    "c = np.array([1,2,3,4,  46, 99, 100, 71,  81, 59, 90, 100], dtype=np.int32).reshape(3,4)\n",
    "c"
   ]
  },
  {
   "cell_type": "code",
   "execution_count": 207,
   "metadata": {},
   "outputs": [
    {
     "name": "stdout",
     "output_type": "stream",
     "text": [
      "[1 2 3 4]\n",
      "[ 46  99 100  71]\n",
      "[ 81  59  90 100]\n"
     ]
    }
   ],
   "source": [
    "c1 = np.array([ 1, 2, 3, 4])\n",
    "c2 = np.array([ 46, 99, 100, 71])\n",
    "c3 = np.array([ 81, 59, 90, 100])\n",
    "\n",
    "print(c1)\n",
    "print(c2)\n",
    "print(c3)"
   ]
  },
  {
   "cell_type": "code",
   "execution_count": 208,
   "metadata": {},
   "outputs": [
    {
     "data": {
      "text/plain": [
       "array([1, 0, 2, 3], dtype=int64)"
      ]
     },
     "execution_count": 208,
     "metadata": {},
     "output_type": "execute_result"
    }
   ],
   "source": [
    "i = c3.argsort()\n",
    "i\n"
   ]
  },
  {
   "cell_type": "code",
   "execution_count": 212,
   "metadata": {},
   "outputs": [
    {
     "data": {
      "text/plain": [
       "array([[  2,   1,   3,   4],\n",
       "       [ 99,  46, 100,  71],\n",
       "       [ 59,  81,  90, 100]])"
      ]
     },
     "execution_count": 212,
     "metadata": {},
     "output_type": "execute_result"
    }
   ],
   "source": [
    "i = np.argsort(c3)\n",
    "c1 = c1[i]\n",
    "c2 = c2[i]\n",
    "c3 = c3[i]\n",
    "np.vstack((c1,c2,c3))"
   ]
  },
  {
   "cell_type": "markdown",
   "metadata": {},
   "source": [
    "### 연습문제 7\n",
    "<pre>\n",
    "7.주사위를 100번 던지는 가상 실험을 파이썬으로 작성하고, 던져서 나오는 숫자의 평균을 구하시오.\n",
    "</pre>"
   ]
  },
  {
   "cell_type": "code",
   "execution_count": 215,
   "metadata": {},
   "outputs": [
    {
     "data": {
      "text/plain": [
       "3.77"
      ]
     },
     "execution_count": 215,
     "metadata": {},
     "output_type": "execute_result"
    }
   ],
   "source": [
    "np.random.randint(1,7,100).mean()"
   ]
  },
  {
   "cell_type": "markdown",
   "metadata": {},
   "source": [
    "### 연습문제 8\n",
    "<pre>\n",
    "8.가격이 10,000원인 주식이 있다. \n",
    "이 주식의 일간 수익률(%)은 기댓값이 0%이고 \n",
    "표준편차가 1%인 표준 정규 분포를 따른다고 하자. \n",
    "250일 동안의 주가를 무작위로 생성하시오.\n",
    "</pre>"
   ]
  },
  {
   "cell_type": "code",
   "execution_count": 270,
   "metadata": {},
   "outputs": [
    {
     "data": {
      "text/plain": [
       "array([11003.97368693, 10713.57636944, 14146.10990288, 11276.70955295,\n",
       "        6806.12161083,  7593.48271291, 11249.04333894, 14497.58494143,\n",
       "       14643.40327353, 10131.86053252,  8508.0122089 ,  5248.73211664,\n",
       "       10732.01095715,  7158.79266894, 11413.88819321, 13018.32463991,\n",
       "       11748.46732393,  5936.66288487,  7703.69942716,  5556.72908497,\n",
       "        9388.70142082,  7459.05073462, 12600.75859112,  9443.25888906,\n",
       "       14785.83127505,  7561.37113904, 14513.23102874, 10482.62027923,\n",
       "        6437.9527786 , 10143.05940702, 14111.64764327,  6062.55212806,\n",
       "       14181.12771512,  6920.02108689,  9546.97434362, 11828.92120946,\n",
       "       13089.78600308, 12477.86982421, 10985.56258126, 14074.38283688,\n",
       "       10653.11804017,  5810.43288358, 11288.84006999, 13404.69463447,\n",
       "       13811.44158176, 13049.10326904,  8535.99656821,  7160.18144425,\n",
       "        6918.03594646, 14109.5057905 , 13845.315059  , 10310.18819318,\n",
       "        8114.53507136,  9401.11517363,  5217.10649927,  8920.7112891 ,\n",
       "        5556.42988778,  5661.38490445,  6554.23628154,  5299.90493747,\n",
       "        9286.28947449, 14507.54454034, 10658.14698514, 13415.22352956,\n",
       "        5480.09499946, 14262.49910904, 14631.9401431 , 11169.291732  ,\n",
       "        8337.44299635, 13312.5131511 , 13693.80116355, 11488.16285997,\n",
       "       13146.40369122, 13134.73400622,  8689.89288191, 12651.93566936,\n",
       "       10970.45136321,  7499.05451936,  8758.69298469,  8722.35112326,\n",
       "        5432.43067176, 12007.98263543,  5946.97949293,  6356.84679566,\n",
       "       10561.12308202,  5864.43818465, 11604.87500528,  8429.08373418,\n",
       "       10423.85866973, 12792.61835711,  7954.65113885,  5844.32525937,\n",
       "        7596.78650728,  9102.77125389, 14755.92628995,  9876.62462587,\n",
       "       12319.33799218,  5582.76322213,  7874.9254201 , 10964.48789803,\n",
       "        5672.85065669,  8646.62028831, 14780.09591123,  5605.4286214 ,\n",
       "        6709.88621353,  5973.55505729,  5153.58805951, 10691.4409663 ,\n",
       "        8790.40742401,  5726.06449762,  5706.25579815, 14001.88338826,\n",
       "        8306.98528025, 11253.22729068,  8895.9083238 ,  6910.76869334,\n",
       "        8298.50741535, 11229.91570795,  9127.83206238, 12274.41000996,\n",
       "       12012.99061493, 13685.63199906, 10845.92561014,  5472.13959639,\n",
       "        5550.06106663,  6433.40099296,  6605.9227887 , 10899.14938913,\n",
       "       10579.20128705, 14037.73366103, 14919.80310672, 10087.08470328,\n",
       "        9233.27072594,  7047.28578739, 10236.90122322,  6694.0103771 ,\n",
       "       11169.25856081,  7622.23174135, 10579.09616468, 13906.19879711,\n",
       "       11784.67764466,  9260.33094886, 11029.6732076 , 14765.31040629,\n",
       "        8799.12994446, 12550.08421435,  7299.72862833, 11517.82146556,\n",
       "        8567.00369143,  7885.23633422, 12747.29140317, 11187.86991357,\n",
       "       12574.90380583,  9025.40190249,  7862.67682631, 14438.81571699,\n",
       "       14690.25604277, 12031.47934048,  8442.30660005,  7110.57870647,\n",
       "       10091.26232587, 14068.64912707,  9116.70594734, 11259.76853398,\n",
       "       10720.74659566,  5005.26376358, 12129.01403079,  9035.4299547 ,\n",
       "       12504.41809258, 10831.24548   ,  7184.11991295,  7332.98724629,\n",
       "       12974.86421487, 12034.25830398, 11779.36943178,  7913.75907359,\n",
       "        8886.44220682,  7055.34564051, 12470.15870244,  5412.34438656,\n",
       "       12690.46393632, 12117.79293401,  8202.39395269, 12704.68866368,\n",
       "       13293.45439144, 11811.27985021,  6977.59668526,  5267.9011408 ,\n",
       "       10073.23715377,  5891.71595652, 13366.02021026,  8241.46138569,\n",
       "        9816.43456852,  8829.03277902, 11849.70371298, 12229.09734402,\n",
       "        8034.14740188, 13636.5914688 ,  5362.21667624, 13968.38354296,\n",
       "       10648.26357581,  7317.69859855, 12063.81570949,  7016.37103567,\n",
       "        7315.95182291,  7232.33292519, 10952.46689998,  7423.87914353,\n",
       "        8195.23408969,  9383.91673809,  9339.88106633, 11837.15007856,\n",
       "       14439.06631153, 12092.14969667,  5352.74598644, 13817.39486153,\n",
       "        9489.33218322, 10924.5552184 ,  8827.05964235, 14420.28927126,\n",
       "       10251.95359801, 13883.16794845,  8497.57099548, 10088.7865495 ,\n",
       "       13364.77902533, 12261.64842556, 12451.64176266,  5680.01473622,\n",
       "        8754.02762131,  8958.71383968,  9357.91942706, 10299.00831849,\n",
       "       10509.96783316,  8753.21492084, 13109.24908732,  9103.3453433 ,\n",
       "       11646.27545042,  9353.83224655, 13757.45562899,  7065.51025308,\n",
       "        5812.51098332, 11565.88441743,  5855.09258788,  5415.58659174,\n",
       "        7701.83983556,  6869.37141656, 14432.35312767,  7737.27212854,\n",
       "        9826.16172609,  5059.3194056 ])"
      ]
     },
     "execution_count": 270,
     "metadata": {},
     "output_type": "execute_result"
    }
   ],
   "source": [
    "e = np.random.uniform(-0.5,0.5,250)*10000+10000\n",
    "e"
   ]
  },
  {
   "cell_type": "code",
   "execution_count": null,
   "metadata": {},
   "outputs": [],
   "source": []
  }
 ],
 "metadata": {
  "interpreter": {
   "hash": "9528276d7147921ccf3eb8613d5de8fb77d072562e0af527ab4e2e91c3f6962f"
  },
  "kernelspec": {
   "display_name": "Python 3.9.7 ('base')",
   "language": "python",
   "name": "python3"
  },
  "language_info": {
   "codemirror_mode": {
    "name": "ipython",
    "version": 3
   },
   "file_extension": ".py",
   "mimetype": "text/x-python",
   "name": "python",
   "nbconvert_exporter": "python",
   "pygments_lexer": "ipython3",
   "version": "3.9.7"
  },
  "orig_nbformat": 4
 },
 "nbformat": 4,
 "nbformat_minor": 2
}
