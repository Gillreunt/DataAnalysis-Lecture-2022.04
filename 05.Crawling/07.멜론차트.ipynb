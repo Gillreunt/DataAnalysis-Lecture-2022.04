{
 "cells": [
  {
   "cell_type": "markdown",
   "metadata": {},
   "source": [
    "# 멜론차트 Top 100\n",
    " - 멜론차트 Top100에서 \n",
    " - 순위, 제목, 가수, 앨범명, 좋아요\n",
    " - 를 크롤링하여 데이터프레임을 만들고 멜론차트Top100.csv 파일을 만드세요."
   ]
  },
  {
   "cell_type": "code",
   "execution_count": 115,
   "metadata": {},
   "outputs": [],
   "source": [
    "import requests\n",
    "import pandas as pd\n",
    "from bs4 import BeautifulSoup"
   ]
  },
  {
   "cell_type": "code",
   "execution_count": 116,
   "metadata": {},
   "outputs": [
    {
     "data": {
      "text/plain": [
       "''"
      ]
     },
     "execution_count": 116,
     "metadata": {},
     "output_type": "execute_result"
    }
   ],
   "source": [
    "url = 'https://www.melon.com/chart/index.htm'\n",
    "req = requests.get(url)\n",
    "req.text"
   ]
  },
  {
   "cell_type": "code",
   "execution_count": 117,
   "metadata": {},
   "outputs": [],
   "source": [
    "header = {'User-Agent' : 'Mozilla/5.0 (Windows NT 10.0; Win64; x64) AppleWebKit/537.36 (KHTML, like Gecko) Chrome/100.0.4896.88 Safari/537.36'}\n",
    "req = requests.get(url,headers=header)\n",
    "soup = BeautifulSoup(req.text)"
   ]
  },
  {
   "cell_type": "code",
   "execution_count": null,
   "metadata": {},
   "outputs": [],
   "source": [
    "soup"
   ]
  },
  {
   "cell_type": "markdown",
   "metadata": {},
   "source": [
    "- #frm > div > table > tbody"
   ]
  },
  {
   "cell_type": "code",
   "execution_count": 119,
   "metadata": {},
   "outputs": [
    {
     "data": {
      "text/plain": [
       "100"
      ]
     },
     "execution_count": 119,
     "metadata": {},
     "output_type": "execute_result"
    }
   ],
   "source": [
    "trs = soup.select('#frm > div > table > tbody > tr')  \n",
    "len(trs)"
   ]
  },
  {
   "cell_type": "code",
   "execution_count": 120,
   "metadata": {},
   "outputs": [],
   "source": [
    "tr = trs[19]"
   ]
  },
  {
   "cell_type": "code",
   "execution_count": 121,
   "metadata": {},
   "outputs": [
    {
     "data": {
      "text/plain": [
       "'20'"
      ]
     },
     "execution_count": 121,
     "metadata": {},
     "output_type": "execute_result"
    }
   ],
   "source": [
    "#순위\n",
    "rank = tr.select_one('.rank').get_text()\n",
    "rank"
   ]
  },
  {
   "cell_type": "markdown",
   "metadata": {},
   "source": [
    "- #lst50 > td:nth-child(6) > div > div > div.ellipsis.rank01 > span > a"
   ]
  },
  {
   "cell_type": "code",
   "execution_count": 122,
   "metadata": {},
   "outputs": [
    {
     "data": {
      "text/plain": [
       "'회전목마 (Feat. Zion.T, 원슈타인) (Prod. Slom)'"
      ]
     },
     "execution_count": 122,
     "metadata": {},
     "output_type": "execute_result"
    }
   ],
   "source": [
    "#제목\n",
    "title = tr.select_one('.ellipsis.rank01 > span > a').get_text()\n",
    "title"
   ]
  },
  {
   "cell_type": "markdown",
   "metadata": {},
   "source": [
    "- #lst50 > td:nth-child(6) > div > div > div.ellipsis.rank02 > a"
   ]
  },
  {
   "cell_type": "code",
   "execution_count": 123,
   "metadata": {},
   "outputs": [
    {
     "data": {
      "text/plain": [
       "'sokodomo'"
      ]
     },
     "execution_count": 123,
     "metadata": {},
     "output_type": "execute_result"
    }
   ],
   "source": [
    "#가수\n",
    "artists = tr.select_one('.ellipsis.rank02 > a').get_text()\n",
    "artists"
   ]
  },
  {
   "cell_type": "markdown",
   "metadata": {},
   "source": [
    "- #lst50 > td:nth-child(7) > div > div > div"
   ]
  },
  {
   "cell_type": "code",
   "execution_count": 124,
   "metadata": {},
   "outputs": [
    {
     "data": {
      "text/plain": [
       "'쇼미더머니 10 Episode 2'"
      ]
     },
     "execution_count": 124,
     "metadata": {},
     "output_type": "execute_result"
    }
   ],
   "source": [
    "#앨범명\n",
    "albumtitles = tr.select_one('.ellipsis.rank03 > a').get_text()\n",
    "albumtitles"
   ]
  },
  {
   "cell_type": "code",
   "execution_count": 125,
   "metadata": {},
   "outputs": [],
   "source": [
    "melonTop100 = []\n",
    "for tr in trs:\n",
    "    rank = tr.select_one('.rank').get_text()\n",
    "    title = tr.select_one('.ellipsis.rank01 > span > a').get_text()\n",
    "    artists = tr.select_one('.ellipsis.rank02 > a').get_text()\n",
    "    albumtitles = tr.select_one('.ellipsis.rank03 > a').get_text()\n",
    "    melonTop100.append({'순위':rank, '제목':title,'가수':artists,'앨범명':albumtitles})"
   ]
  },
  {
   "cell_type": "code",
   "execution_count": 126,
   "metadata": {},
   "outputs": [
    {
     "data": {
      "text/html": [
       "<div>\n",
       "<style scoped>\n",
       "    .dataframe tbody tr th:only-of-type {\n",
       "        vertical-align: middle;\n",
       "    }\n",
       "\n",
       "    .dataframe tbody tr th {\n",
       "        vertical-align: top;\n",
       "    }\n",
       "\n",
       "    .dataframe thead th {\n",
       "        text-align: right;\n",
       "    }\n",
       "</style>\n",
       "<table border=\"1\" class=\"dataframe\">\n",
       "  <thead>\n",
       "    <tr style=\"text-align: right;\">\n",
       "      <th></th>\n",
       "      <th>순위</th>\n",
       "      <th>제목</th>\n",
       "      <th>가수</th>\n",
       "      <th>앨범명</th>\n",
       "    </tr>\n",
       "  </thead>\n",
       "  <tbody>\n",
       "    <tr>\n",
       "      <th>0</th>\n",
       "      <td>1</td>\n",
       "      <td>봄여름가을겨울 (Still Life)</td>\n",
       "      <td>BIGBANG (빅뱅)</td>\n",
       "      <td>봄여름가을겨울 (Still Life)</td>\n",
       "    </tr>\n",
       "    <tr>\n",
       "      <th>1</th>\n",
       "      <td>2</td>\n",
       "      <td>TOMBOY</td>\n",
       "      <td>(여자)아이들</td>\n",
       "      <td>I NEVER DIE</td>\n",
       "    </tr>\n",
       "    <tr>\n",
       "      <th>2</th>\n",
       "      <td>3</td>\n",
       "      <td>LOVE DIVE</td>\n",
       "      <td>IVE (아이브)</td>\n",
       "      <td>LOVE DIVE</td>\n",
       "    </tr>\n",
       "    <tr>\n",
       "      <th>3</th>\n",
       "      <td>4</td>\n",
       "      <td>Feel My Rhythm</td>\n",
       "      <td>Red Velvet (레드벨벳)</td>\n",
       "      <td>‘The ReVe Festival 2022 - Feel My Rhythm’</td>\n",
       "    </tr>\n",
       "    <tr>\n",
       "      <th>4</th>\n",
       "      <td>5</td>\n",
       "      <td>사랑인가 봐</td>\n",
       "      <td>멜로망스</td>\n",
       "      <td>사랑인가 봐 (사내맞선 OST 스페셜 트랙)</td>\n",
       "    </tr>\n",
       "    <tr>\n",
       "      <th>...</th>\n",
       "      <td>...</td>\n",
       "      <td>...</td>\n",
       "      <td>...</td>\n",
       "      <td>...</td>\n",
       "    </tr>\n",
       "    <tr>\n",
       "      <th>95</th>\n",
       "      <td>96</td>\n",
       "      <td>우연히 봄</td>\n",
       "      <td>로꼬</td>\n",
       "      <td>냄새를 보는 소녀 OST Part.2</td>\n",
       "    </tr>\n",
       "    <tr>\n",
       "      <th>96</th>\n",
       "      <td>97</td>\n",
       "      <td>꽃 (With 김민석 of 멜로망스)</td>\n",
       "      <td>박봄 (Park Bom)</td>\n",
       "      <td>꽃</td>\n",
       "    </tr>\n",
       "    <tr>\n",
       "      <th>97</th>\n",
       "      <td>98</td>\n",
       "      <td>흔들리는 꽃들 속에서 네 샴푸향이 느껴진거야</td>\n",
       "      <td>장범준</td>\n",
       "      <td>멜로가 체질 OST Part 3</td>\n",
       "    </tr>\n",
       "    <tr>\n",
       "      <th>98</th>\n",
       "      <td>99</td>\n",
       "      <td>Arcade</td>\n",
       "      <td>NCT DREAM</td>\n",
       "      <td>Glitch Mode - The 2nd Album</td>\n",
       "    </tr>\n",
       "    <tr>\n",
       "      <th>99</th>\n",
       "      <td>100</td>\n",
       "      <td>우리가 헤어져야 했던 이유</td>\n",
       "      <td>비비 (BIBI)</td>\n",
       "      <td>그 해 우리는 OST Part.2</td>\n",
       "    </tr>\n",
       "  </tbody>\n",
       "</table>\n",
       "<p>100 rows × 4 columns</p>\n",
       "</div>"
      ],
      "text/plain": [
       "     순위                        제목                 가수  \\\n",
       "0     1      봄여름가을겨울 (Still Life)       BIGBANG (빅뱅)   \n",
       "1     2                    TOMBOY            (여자)아이들   \n",
       "2     3                 LOVE DIVE          IVE (아이브)   \n",
       "3     4            Feel My Rhythm  Red Velvet (레드벨벳)   \n",
       "4     5                    사랑인가 봐               멜로망스   \n",
       "..  ...                       ...                ...   \n",
       "95   96                     우연히 봄                 로꼬   \n",
       "96   97      꽃 (With 김민석 of 멜로망스)      박봄 (Park Bom)   \n",
       "97   98  흔들리는 꽃들 속에서 네 샴푸향이 느껴진거야                장범준   \n",
       "98   99                    Arcade          NCT DREAM   \n",
       "99  100            우리가 헤어져야 했던 이유          비비 (BIBI)   \n",
       "\n",
       "                                          앨범명  \n",
       "0                        봄여름가을겨울 (Still Life)  \n",
       "1                                 I NEVER DIE  \n",
       "2                                   LOVE DIVE  \n",
       "3   ‘The ReVe Festival 2022 - Feel My Rhythm’  \n",
       "4                    사랑인가 봐 (사내맞선 OST 스페셜 트랙)  \n",
       "..                                        ...  \n",
       "95                       냄새를 보는 소녀 OST Part.2  \n",
       "96                                          꽃  \n",
       "97                          멜로가 체질 OST Part 3  \n",
       "98                Glitch Mode - The 2nd Album  \n",
       "99                         그 해 우리는 OST Part.2  \n",
       "\n",
       "[100 rows x 4 columns]"
      ]
     },
     "execution_count": 126,
     "metadata": {},
     "output_type": "execute_result"
    }
   ],
   "source": [
    "df= pd.DataFrame(melonTop100)\n",
    "df"
   ]
  },
  {
   "cell_type": "code",
   "execution_count": 82,
   "metadata": {},
   "outputs": [],
   "source": [
    "df.to_csv('melonTop100.csv', index=False)"
   ]
  },
  {
   "cell_type": "markdown",
   "metadata": {},
   "source": [
    "# 맬론 일간 종합차트"
   ]
  },
  {
   "cell_type": "code",
   "execution_count": 127,
   "metadata": {},
   "outputs": [
    {
     "data": {
      "text/plain": [
       "''"
      ]
     },
     "execution_count": 127,
     "metadata": {},
     "output_type": "execute_result"
    }
   ],
   "source": [
    "url_day = 'https://www.melon.com/chart/day/index.htm'\n",
    "req_day = requests.get(url_day)\n",
    "req_day.text"
   ]
  },
  {
   "cell_type": "code",
   "execution_count": null,
   "metadata": {},
   "outputs": [],
   "source": [
    "header = {'User-Agent' : 'Mozilla/5.0 (Windows NT 10.0; Win64; x64) AppleWebKit/537.36 (KHTML, like Gecko) Chrome/100.0.4896.88 Safari/537.36'}\n",
    "req_day = requests.get(url_day,headers=header)\n",
    "soup = BeautifulSoup(req_day.text)\n",
    "soup"
   ]
  },
  {
   "cell_type": "code",
   "execution_count": 129,
   "metadata": {},
   "outputs": [
    {
     "data": {
      "text/plain": [
       "100"
      ]
     },
     "execution_count": 129,
     "metadata": {},
     "output_type": "execute_result"
    }
   ],
   "source": [
    "trs_day = soup.select('#frm > div > table > tbody > tr')  \n",
    "len(trs_day)"
   ]
  },
  {
   "cell_type": "code",
   "execution_count": 130,
   "metadata": {},
   "outputs": [],
   "source": [
    "tr_day = trs_day[6]"
   ]
  },
  {
   "cell_type": "code",
   "execution_count": 131,
   "metadata": {},
   "outputs": [
    {
     "data": {
      "text/plain": [
       "'7'"
      ]
     },
     "execution_count": 131,
     "metadata": {},
     "output_type": "execute_result"
    }
   ],
   "source": [
    "#순위\n",
    "rank_day = tr_day.select_one('.rank').get_text()\n",
    "rank_day"
   ]
  },
  {
   "cell_type": "code",
   "execution_count": 132,
   "metadata": {},
   "outputs": [
    {
     "data": {
      "text/plain": [
       "'취중고백'"
      ]
     },
     "execution_count": 132,
     "metadata": {},
     "output_type": "execute_result"
    }
   ],
   "source": [
    "#제목\n",
    "title_day = tr_day.select_one('.ellipsis.rank01 > span > a').get_text()\n",
    "title_day"
   ]
  },
  {
   "cell_type": "code",
   "execution_count": 133,
   "metadata": {},
   "outputs": [
    {
     "data": {
      "text/plain": [
       "'김민석 (멜로망스)'"
      ]
     },
     "execution_count": 133,
     "metadata": {},
     "output_type": "execute_result"
    }
   ],
   "source": [
    "#가수\n",
    "artists_day = tr_day.select_one('.ellipsis.rank02 > a').get_text()\n",
    "artists_day"
   ]
  },
  {
   "cell_type": "code",
   "execution_count": 134,
   "metadata": {},
   "outputs": [
    {
     "data": {
      "text/plain": [
       "'취중고백'"
      ]
     },
     "execution_count": 134,
     "metadata": {},
     "output_type": "execute_result"
    }
   ],
   "source": [
    "#앨범명\n",
    "albumtitles_day = tr_day.select_one('.ellipsis.rank03 > a').get_text()\n",
    "albumtitles_day"
   ]
  },
  {
   "cell_type": "code",
   "execution_count": 137,
   "metadata": {},
   "outputs": [],
   "source": [
    "melonTop100_day = []\n",
    "for tr_day in trs_day:\n",
    "    rank_day = tr_day.select_one('.rank').get_text()\n",
    "    title_day = tr_day.select_one('.ellipsis.rank01 > span > a').get_text()\n",
    "    artists_day = tr_day.select_one('.ellipsis.rank02 > a').get_text()\n",
    "    albumtitles_day = tr_day.select_one('.ellipsis.rank03 > a').get_text()\n",
    "    melonTop100_day.append({'순위':rank_day, '제목':title_day,'가수':artists_day,'앨범명':albumtitles_day})"
   ]
  },
  {
   "cell_type": "code",
   "execution_count": 138,
   "metadata": {},
   "outputs": [
    {
     "data": {
      "text/html": [
       "<div>\n",
       "<style scoped>\n",
       "    .dataframe tbody tr th:only-of-type {\n",
       "        vertical-align: middle;\n",
       "    }\n",
       "\n",
       "    .dataframe tbody tr th {\n",
       "        vertical-align: top;\n",
       "    }\n",
       "\n",
       "    .dataframe thead th {\n",
       "        text-align: right;\n",
       "    }\n",
       "</style>\n",
       "<table border=\"1\" class=\"dataframe\">\n",
       "  <thead>\n",
       "    <tr style=\"text-align: right;\">\n",
       "      <th></th>\n",
       "      <th>순위</th>\n",
       "      <th>제목</th>\n",
       "      <th>가수</th>\n",
       "      <th>앨범명</th>\n",
       "    </tr>\n",
       "  </thead>\n",
       "  <tbody>\n",
       "    <tr>\n",
       "      <th>0</th>\n",
       "      <td>1</td>\n",
       "      <td>봄여름가을겨울 (Still Life)</td>\n",
       "      <td>BIGBANG (빅뱅)</td>\n",
       "      <td>봄여름가을겨울 (Still Life)</td>\n",
       "    </tr>\n",
       "    <tr>\n",
       "      <th>1</th>\n",
       "      <td>2</td>\n",
       "      <td>TOMBOY</td>\n",
       "      <td>(여자)아이들</td>\n",
       "      <td>I NEVER DIE</td>\n",
       "    </tr>\n",
       "    <tr>\n",
       "      <th>2</th>\n",
       "      <td>3</td>\n",
       "      <td>LOVE DIVE</td>\n",
       "      <td>IVE (아이브)</td>\n",
       "      <td>LOVE DIVE</td>\n",
       "    </tr>\n",
       "    <tr>\n",
       "      <th>3</th>\n",
       "      <td>4</td>\n",
       "      <td>Feel My Rhythm</td>\n",
       "      <td>Red Velvet (레드벨벳)</td>\n",
       "      <td>‘The ReVe Festival 2022 - Feel My Rhythm’</td>\n",
       "    </tr>\n",
       "    <tr>\n",
       "      <th>4</th>\n",
       "      <td>5</td>\n",
       "      <td>사랑인가 봐</td>\n",
       "      <td>멜로망스</td>\n",
       "      <td>사랑인가 봐 (사내맞선 OST 스페셜 트랙)</td>\n",
       "    </tr>\n",
       "    <tr>\n",
       "      <th>...</th>\n",
       "      <td>...</td>\n",
       "      <td>...</td>\n",
       "      <td>...</td>\n",
       "      <td>...</td>\n",
       "    </tr>\n",
       "    <tr>\n",
       "      <th>95</th>\n",
       "      <td>96</td>\n",
       "      <td>다시 만날까 봐</td>\n",
       "      <td>V.O.S</td>\n",
       "      <td>다시 만날까 봐</td>\n",
       "    </tr>\n",
       "    <tr>\n",
       "      <th>96</th>\n",
       "      <td>97</td>\n",
       "      <td>북극성 (Never Goodbye)</td>\n",
       "      <td>NCT DREAM</td>\n",
       "      <td>Glitch Mode - The 2nd Album</td>\n",
       "    </tr>\n",
       "    <tr>\n",
       "      <th>97</th>\n",
       "      <td>98</td>\n",
       "      <td>O.O</td>\n",
       "      <td>NMIXX</td>\n",
       "      <td>AD MARE</td>\n",
       "    </tr>\n",
       "    <tr>\n",
       "      <th>98</th>\n",
       "      <td>99</td>\n",
       "      <td>오늘도 빛나는 너에게 (To You My Light) (Feat.이라온)</td>\n",
       "      <td>마크툽 (MAKTUB)</td>\n",
       "      <td>Red Moon : To You My Light</td>\n",
       "    </tr>\n",
       "    <tr>\n",
       "      <th>99</th>\n",
       "      <td>100</td>\n",
       "      <td>추억은 만남보다 이별에 남아</td>\n",
       "      <td>정동하</td>\n",
       "      <td>추억은 만남보다 이별에 남아</td>\n",
       "    </tr>\n",
       "  </tbody>\n",
       "</table>\n",
       "<p>100 rows × 4 columns</p>\n",
       "</div>"
      ],
      "text/plain": [
       "     순위                                        제목                 가수  \\\n",
       "0     1                      봄여름가을겨울 (Still Life)       BIGBANG (빅뱅)   \n",
       "1     2                                    TOMBOY            (여자)아이들   \n",
       "2     3                                 LOVE DIVE          IVE (아이브)   \n",
       "3     4                            Feel My Rhythm  Red Velvet (레드벨벳)   \n",
       "4     5                                    사랑인가 봐               멜로망스   \n",
       "..  ...                                       ...                ...   \n",
       "95   96                                  다시 만날까 봐              V.O.S   \n",
       "96   97                       북극성 (Never Goodbye)          NCT DREAM   \n",
       "97   98                                       O.O              NMIXX   \n",
       "98   99  오늘도 빛나는 너에게 (To You My Light) (Feat.이라온)       마크툽 (MAKTUB)   \n",
       "99  100                           추억은 만남보다 이별에 남아                정동하   \n",
       "\n",
       "                                          앨범명  \n",
       "0                        봄여름가을겨울 (Still Life)  \n",
       "1                                 I NEVER DIE  \n",
       "2                                   LOVE DIVE  \n",
       "3   ‘The ReVe Festival 2022 - Feel My Rhythm’  \n",
       "4                    사랑인가 봐 (사내맞선 OST 스페셜 트랙)  \n",
       "..                                        ...  \n",
       "95                                   다시 만날까 봐  \n",
       "96                Glitch Mode - The 2nd Album  \n",
       "97                                    AD MARE  \n",
       "98                 Red Moon : To You My Light  \n",
       "99                            추억은 만남보다 이별에 남아  \n",
       "\n",
       "[100 rows x 4 columns]"
      ]
     },
     "execution_count": 138,
     "metadata": {},
     "output_type": "execute_result"
    }
   ],
   "source": [
    "df= pd.DataFrame(melonTop100_day)\n",
    "df"
   ]
  },
  {
   "cell_type": "code",
   "execution_count": 139,
   "metadata": {},
   "outputs": [],
   "source": [
    "df.to_csv('melonTop100_day.csv', index=False)"
   ]
  },
  {
   "cell_type": "code",
   "execution_count": null,
   "metadata": {},
   "outputs": [],
   "source": []
  }
 ],
 "metadata": {
  "interpreter": {
   "hash": "9528276d7147921ccf3eb8613d5de8fb77d072562e0af527ab4e2e91c3f6962f"
  },
  "kernelspec": {
   "display_name": "Python 3.9.7 ('base')",
   "language": "python",
   "name": "python3"
  },
  "language_info": {
   "codemirror_mode": {
    "name": "ipython",
    "version": 3
   },
   "file_extension": ".py",
   "mimetype": "text/x-python",
   "name": "python",
   "nbconvert_exporter": "python",
   "pygments_lexer": "ipython3",
   "version": "3.9.7"
  },
  "orig_nbformat": 4
 },
 "nbformat": 4,
 "nbformat_minor": 2
}
