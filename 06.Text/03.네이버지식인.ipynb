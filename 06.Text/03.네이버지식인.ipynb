{
 "cells": [
  {
   "cell_type": "code",
   "execution_count": 1,
   "metadata": {},
   "outputs": [],
   "source": [
    "import requests, re\n",
    "import pandas as pd\n",
    "from bs4 import BeautifulSoup\n",
    "from tqdm.notebook import tqdm\n",
    "from wordcloud import WordCloud\n",
    "import matplotlib as mpl\n",
    "import matplotlib.pyplot as plt\n",
    "mpl.rcParams['axes.unicode_minus']= False\n",
    "mpl.rcParams['font.family'] = 'Malgun Gothic'"
   ]
  },
  {
   "cell_type": "code",
   "execution_count": 70,
   "metadata": {},
   "outputs": [],
   "source": [
    "base_url = 'https://kin.naver.com'\n",
    "sub_url = '/search/list.naver?query=%EC%97%AC%EC%B9%9C%EC%84%A0%EB%AC%BC'\n",
    "url = base_url + sub_url\n",
    "res = requests.get(url)\n",
    "soup = BeautifulSoup(res.text, 'html.parser')"
   ]
  },
  {
   "cell_type": "code",
   "execution_count": 3,
   "metadata": {},
   "outputs": [],
   "source": [
    "# //*[@id=\"s_content\"]/div[3]/ul/li[1]/dl/dd[2]\n",
    "# #s_content > div.section > ul > li:nth-child(2)\n",
    "# #s_content > div.section > ul > li:nth-child(1) > dl\n",
    "#s_content > div.section > ul > li:nth-child(1) > dl > dd.tag_area\n",
    "#s_content > div.section > ul > li:nth-child(1) > dl > dt"
   ]
  },
  {
   "cell_type": "code",
   "execution_count": 71,
   "metadata": {},
   "outputs": [
    {
     "data": {
      "text/plain": [
       "10"
      ]
     },
     "execution_count": 71,
     "metadata": {},
     "output_type": "execute_result"
    }
   ],
   "source": [
    "lis = soup.select('.tag_area')\n",
    "len(lis)"
   ]
  },
  {
   "cell_type": "code",
   "execution_count": 72,
   "metadata": {},
   "outputs": [
    {
     "data": {
      "text/plain": [
       "'/tag/tagDetail.naver?tag=%EC%97%AC%EC%B9%9C%EC%84%A0%EB%AC%BC&listType=answer'"
      ]
     },
     "execution_count": 72,
     "metadata": {},
     "output_type": "execute_result"
    }
   ],
   "source": [
    "li = lis[0]\n",
    "href = li.find('a')['href']\n",
    "href"
   ]
  },
  {
   "cell_type": "code",
   "execution_count": 73,
   "metadata": {},
   "outputs": [],
   "source": [
    "res = requests.get(base_url +href)\n",
    "gift_soup = BeautifulSoup(res.text, 'html.parser')"
   ]
  },
  {
   "cell_type": "code",
   "execution_count": 77,
   "metadata": {},
   "outputs": [
    {
     "data": {
      "text/plain": [
       "24"
      ]
     },
     "execution_count": 77,
     "metadata": {},
     "output_type": "execute_result"
    }
   ],
   "source": [
    "tags = gift_soup.select('.tag')\n",
    "len(tags)"
   ]
  },
  {
   "cell_type": "code",
   "execution_count": 78,
   "metadata": {},
   "outputs": [
    {
     "name": "stdout",
     "output_type": "stream",
     "text": [
      "['#와이프선물', '#귀걸이추천', '#시간의바깥라이브클립', '#가네시목걸이', '#커플템', '#여자18k목걸이', '#남친선물', '#제이에스티나세레나', '#로엔샵', '#노블라티오', '#아이유귀걸이', '#아이유패션', '#프라다카드지갑', '#명품구매대행', '#차량용방향제', '#샤넬신상', '#데일리팔찌', '#seoulseed', '#여친생일선물', '#유니콘키링', '#워치보이', '#여성메탈시계', '#14k목걸이', '#마리끌레르']\n"
     ]
    }
   ],
   "source": [
    "tag_list=[]\n",
    "for a in tags:\n",
    "    tag_list.append(a.get_text().strip())\n",
    "print(tag_list)"
   ]
  },
  {
   "cell_type": "code",
   "execution_count": 81,
   "metadata": {},
   "outputs": [
    {
     "data": {
      "application/vnd.jupyter.widget-view+json": {
       "model_id": "7c5e103fbba34916b2253f1ae89e61ae",
       "version_major": 2,
       "version_minor": 0
      },
      "text/plain": [
       "  0%|          | 0/20 [00:00<?, ?it/s]"
      ]
     },
     "metadata": {},
     "output_type": "display_data"
    }
   ],
   "source": [
    "tag_list = []\n",
    "for page in tqdm(range(1,21)):\n",
    "    url = f'{base_url}{sub_url}?page={page}'\n",
    "    res = requests.get(url)\n",
    "    soup = BeautifulSoup(res.text, 'html.parser')\n",
    "    lis = soup.select('tag_area')\n",
    "    for li in lis:\n",
    "        test = li.find('a')['href']\n",
    "        res = requests.get(base_url +test)\n",
    "        gift_soup = BeautifulSoup(res.text, 'html.parser')\n",
    "        tags = gift_soup.select('.tag')\n",
    "        for a in tags:\n",
    "            tag_list.append(a.get_text().strip())\n",
    "\n"
   ]
  },
  {
   "cell_type": "code",
   "execution_count": 79,
   "metadata": {},
   "outputs": [
    {
     "data": {
      "application/vnd.jupyter.widget-view+json": {
       "model_id": "3984cd446b9d4112a416c610de1a15f5",
       "version_major": 2,
       "version_minor": 0
      },
      "text/plain": [
       "  0%|          | 0/20 [00:00<?, ?it/s]"
      ]
     },
     "metadata": {},
     "output_type": "display_data"
    }
   ],
   "source": [
    "tag_list = []\n",
    "for page in tqdm(range(1,21)):\n",
    "    url = f'{base_url}{sub_url}?page={page}'\n",
    "    res = requests.get(url)\n",
    "    soup = BeautifulSoup(res.text, 'html.parser')\n",
    "    lis = soup.select('tag_area')\n",
    "\n",
    "    for li in lis:\n",
    "        kin_url = li.find('a')['href']\n",
    "        res = requests.get(base_url + kin_url)\n",
    "        gift_soup = BeautifulSoup(res.text, 'html.parser')\n",
    "        tags = gift_soup.select('.tag')\n",
    "        for a in tags:\n",
    "            tag_list.append(a.get_text().strip())"
   ]
  },
  {
   "cell_type": "code",
   "execution_count": 82,
   "metadata": {},
   "outputs": [
    {
     "data": {
      "text/plain": [
       "0"
      ]
     },
     "execution_count": 82,
     "metadata": {},
     "output_type": "execute_result"
    }
   ],
   "source": [
    "len(tag_list)"
   ]
  },
  {
   "cell_type": "code",
   "execution_count": 83,
   "metadata": {},
   "outputs": [
    {
     "name": "stdout",
     "output_type": "stream",
     "text": [
      "[]\n"
     ]
    }
   ],
   "source": [
    "print(tag_list)"
   ]
  },
  {
   "cell_type": "code",
   "execution_count": null,
   "metadata": {},
   "outputs": [],
   "source": []
  }
 ],
 "metadata": {
  "interpreter": {
   "hash": "9528276d7147921ccf3eb8613d5de8fb77d072562e0af527ab4e2e91c3f6962f"
  },
  "kernelspec": {
   "display_name": "Python 3.9.7 ('base')",
   "language": "python",
   "name": "python3"
  },
  "language_info": {
   "codemirror_mode": {
    "name": "ipython",
    "version": 3
   },
   "file_extension": ".py",
   "mimetype": "text/x-python",
   "name": "python",
   "nbconvert_exporter": "python",
   "pygments_lexer": "ipython3",
   "version": "3.9.7"
  },
  "orig_nbformat": 4
 },
 "nbformat": 4,
 "nbformat_minor": 2
}
